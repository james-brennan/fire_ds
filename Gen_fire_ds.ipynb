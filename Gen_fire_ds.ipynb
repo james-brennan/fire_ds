{
 "cells": [
  {
   "cell_type": "markdown",
   "metadata": {},
   "source": [
    "# Generating fire datasets"
   ]
  },
  {
   "cell_type": "markdown",
   "metadata": {},
   "source": [
    "The idea is to generate datasets where the fire characteristics as well as sensor sampling etc can be modelled\n",
    "\n",
    "The current basis for the approach is to generate a 4D dataset of surface reflectance observations. Where we have data for pixel (i,j), at band $\\lambda$, at time t. \n",
    "\n",
    "$$\\rho(i,j,\\lambda, t)$$\n",
    "\n",
    "First a normal vegetation scene is created with a spectrum chosen from a dataset. Dynamics in space and time are introduced with 3 dimensional perlin noise. This makes the data a little more realistic. \n",
    "\n",
    "Burned areas are simulated somehow?\n",
    "The spectral representation of fire is with a simple linear mixture model as a function of time after the burn event. A signmoidal function is used to mix between a burn scar of ash/char and a return to the vegetation spectrum. "
   ]
  },
  {
   "cell_type": "code",
   "execution_count": 1,
   "metadata": {
    "collapsed": true
   },
   "outputs": [],
   "source": [
    "# Load dependencies\n",
    "import numpy as np\n",
    "import matplotlib.pyplot as plt \n",
    "import noise\n",
    "import scipy.interpolate\n",
    "from scipy.signal import convolve\n"
   ]
  },
  {
   "cell_type": "code",
   "execution_count": 2,
   "metadata": {
    "collapsed": true
   },
   "outputs": [],
   "source": [
    "# Get necessary stuff like the ash and \n",
    "# vegetation spectrum and interpolate to the same wavelengths\n",
    "veg_refl = np.genfromtxt('leafReflTrans')\n",
    "wv = veg_refl.T[0]\n",
    "veg_refl = veg_refl.T[1]\n",
    "window = np.ones(3)/3.0\n",
    "veg_refl  = convolve(veg_refl, window, mode='same')\n",
    "\n",
    "soil_ash_char = np.genfromtxt('soilRefl')\n",
    "\n",
    "# interpolate soil_ash_char to same wavelengths as vegetation\n",
    "wv1d = scipy.interpolate.interp1d(soil_ash_char.T[0], soil_ash_char.T[1])\n",
    "soil_ash_char2 = wv1d(wv)\n",
    "soil_ash_char2  = convolve(soil_ash_char2, window, mode='same')\n",
    "\n",
    "# decrease this a bit -- only using this for testing\n",
    "soil_ash_char2 *= 0.5\n"
   ]
  },
  {
   "cell_type": "code",
   "execution_count": null,
   "metadata": {
    "collapsed": true
   },
   "outputs": [],
   "source": []
  }
 ],
 "metadata": {
  "kernelspec": {
   "display_name": "Python 2",
   "language": "python",
   "name": "python2"
  },
  "language_info": {
   "codemirror_mode": {
    "name": "ipython",
    "version": 2
   },
   "file_extension": ".py",
   "mimetype": "text/x-python",
   "name": "python",
   "nbconvert_exporter": "python",
   "pygments_lexer": "ipython2",
   "version": "2.7.6"
  }
 },
 "nbformat": 4,
 "nbformat_minor": 0
}
